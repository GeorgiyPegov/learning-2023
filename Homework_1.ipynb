{
  "nbformat": 4,
  "nbformat_minor": 0,
  "metadata": {
    "colab": {
      "provenance": [],
      "authorship_tag": "ABX9TyOcEICiTJoBC7nzHgvWCT/y",
      "include_colab_link": true
    },
    "kernelspec": {
      "name": "python3",
      "display_name": "Python 3"
    },
    "language_info": {
      "name": "python"
    }
  },
  "cells": [
    {
      "cell_type": "markdown",
      "metadata": {
        "id": "view-in-github",
        "colab_type": "text"
      },
      "source": [
        "<a href=\"https://colab.research.google.com/github/GeorgiyPegov/learning-2023/blob/main/Homework_1.ipynb\" target=\"_parent\"><img src=\"https://colab.research.google.com/assets/colab-badge.svg\" alt=\"Open In Colab\"/></a>"
      ]
    },
    {
      "cell_type": "code",
      "source": [
        "import numpy as np"
      ],
      "metadata": {
        "id": "BFdX7--z0HDC"
      },
      "execution_count": null,
      "outputs": []
    },
    {
      "cell_type": "code",
      "source": [
        "A = np.matrix([[6, -8, 3]])"
      ],
      "metadata": {
        "id": "delCuTkM0v5w"
      },
      "execution_count": null,
      "outputs": []
    },
    {
      "cell_type": "code",
      "source": [
        "B = np.matrix([[1],\n",
        "               [1],\n",
        "               [4]])"
      ],
      "metadata": {
        "id": "wys9xmIv3FtT"
      },
      "execution_count": null,
      "outputs": []
    },
    {
      "cell_type": "code",
      "source": [
        "A * B"
      ],
      "metadata": {
        "colab": {
          "base_uri": "https://localhost:8080/"
        },
        "id": "eZca-rRbk873",
        "outputId": "092ee7aa-4685-455d-82bd-de2decab1129"
      },
      "execution_count": null,
      "outputs": [
        {
          "output_type": "execute_result",
          "data": {
            "text/plain": [
              "matrix([[10]])"
            ]
          },
          "metadata": {},
          "execution_count": 4
        }
      ]
    },
    {
      "cell_type": "code",
      "source": [
        "X = np.matrix([[-3, -7],\n",
        "               [-10, 6],\n",
        "               [0, -6],\n",
        "               [-1, -3]])"
      ],
      "metadata": {
        "id": "LlWv_LWKHOxW"
      },
      "execution_count": null,
      "outputs": []
    },
    {
      "cell_type": "code",
      "source": [
        "Y = np.matrix([[-8, 9],\n",
        "               [4, -2]])"
      ],
      "metadata": {
        "id": "gBExml8QJQWX"
      },
      "execution_count": null,
      "outputs": []
    },
    {
      "cell_type": "code",
      "source": [
        "X * Y"
      ],
      "metadata": {
        "colab": {
          "base_uri": "https://localhost:8080/"
        },
        "id": "UNyw6lkQJct5",
        "outputId": "97669f62-5ef9-426c-bd12-0c500a3451b2"
      },
      "execution_count": null,
      "outputs": [
        {
          "output_type": "execute_result",
          "data": {
            "text/plain": [
              "matrix([[  -4,  -13],\n",
              "        [ 104, -102],\n",
              "        [ -24,   12],\n",
              "        [  -4,   -3]])"
            ]
          },
          "metadata": {},
          "execution_count": 7
        }
      ]
    }
  ]
}